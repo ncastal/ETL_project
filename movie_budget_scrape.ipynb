{
 "cells": [
  {
   "cell_type": "code",
   "execution_count": 1,
   "metadata": {},
   "outputs": [],
   "source": [
    "import pandas as pd\n",
    "from bs4 import BeautifulSoup\n",
    "import pymongo\n",
    "from splinter import Browser"
   ]
  },
  {
   "cell_type": "code",
   "execution_count": 92,
   "metadata": {},
   "outputs": [],
   "source": [
    "executable_path = {'executable_path': 'chromedriver.exe'}\n",
    "browser = Browser('chrome', **executable_path, headless=False)"
   ]
  },
  {
   "cell_type": "code",
   "execution_count": 94,
   "metadata": {},
   "outputs": [],
   "source": [
    "url='https://www.the-numbers.com/movie/budgets/all'\n",
    "browser.visit(url)"
   ]
  },
  {
   "cell_type": "code",
   "execution_count": 95,
   "metadata": {},
   "outputs": [],
   "source": [
    "movie_df=[]"
   ]
  },
  {
   "cell_type": "code",
   "execution_count": 96,
   "metadata": {
    "scrolled": true
   },
   "outputs": [],
   "source": [
    "page_list=['101-200','201-300','301-400','401-500','501-1,000']\n",
    "for page in page_list:\n",
    "    html = browser.html\n",
    "    soup = BeautifulSoup(html, 'html.parser')\n",
    "    table=soup.find_all('table')[0]\n",
    "    df=pd.read_html(str(table))\n",
    "    df=df[0]\n",
    "    df=df.drop(columns='Unnamed: 0')\n",
    "    movie_df.append(df)\n",
    "    browser.click_link_by_partial_text(page)"
   ]
  },
  {
   "cell_type": "code",
   "execution_count": null,
   "metadata": {},
   "outputs": [],
   "source": []
  },
  {
   "cell_type": "code",
   "execution_count": 97,
   "metadata": {},
   "outputs": [],
   "source": [
    "movies_df=movie_df[0].append(movie_df[1]).append(movie_df[2]).append(movie_df[3]).append(movie_df[4]).reset_index().drop(columns='index')"
   ]
  },
  {
   "cell_type": "code",
   "execution_count": 98,
   "metadata": {},
   "outputs": [
    {
     "data": {
      "text/html": [
       "<div>\n",
       "<style scoped>\n",
       "    .dataframe tbody tr th:only-of-type {\n",
       "        vertical-align: middle;\n",
       "    }\n",
       "\n",
       "    .dataframe tbody tr th {\n",
       "        vertical-align: top;\n",
       "    }\n",
       "\n",
       "    .dataframe thead th {\n",
       "        text-align: right;\n",
       "    }\n",
       "</style>\n",
       "<table border=\"1\" class=\"dataframe\">\n",
       "  <thead>\n",
       "    <tr style=\"text-align: right;\">\n",
       "      <th></th>\n",
       "      <th>ReleaseDate</th>\n",
       "      <th>Movie</th>\n",
       "      <th>ProductionBudget</th>\n",
       "      <th>DomesticGross</th>\n",
       "      <th>WorldwideGross</th>\n",
       "    </tr>\n",
       "  </thead>\n",
       "  <tbody>\n",
       "    <tr>\n",
       "      <th>0</th>\n",
       "      <td>Apr 23, 2019</td>\n",
       "      <td>Avengers: Endgame</td>\n",
       "      <td>$400,000,000</td>\n",
       "      <td>$858,373,000</td>\n",
       "      <td>$2,797,800,564</td>\n",
       "    </tr>\n",
       "    <tr>\n",
       "      <th>1</th>\n",
       "      <td>May 20, 2011</td>\n",
       "      <td>Pirates of the Caribbean: On Stranger Tides</td>\n",
       "      <td>$379,000,000</td>\n",
       "      <td>$241,063,875</td>\n",
       "      <td>$1,045,663,875</td>\n",
       "    </tr>\n",
       "    <tr>\n",
       "      <th>2</th>\n",
       "      <td>Apr 22, 2015</td>\n",
       "      <td>Avengers: Age of Ultron</td>\n",
       "      <td>$365,000,000</td>\n",
       "      <td>$459,005,868</td>\n",
       "      <td>$1,403,013,963</td>\n",
       "    </tr>\n",
       "    <tr>\n",
       "      <th>3</th>\n",
       "      <td>Dec 16, 2015</td>\n",
       "      <td>Star Wars Ep. VII: The Force Awakens</td>\n",
       "      <td>$306,000,000</td>\n",
       "      <td>$936,662,225</td>\n",
       "      <td>$2,068,223,624</td>\n",
       "    </tr>\n",
       "    <tr>\n",
       "      <th>4</th>\n",
       "      <td>Apr 25, 2018</td>\n",
       "      <td>Avengers: Infinity War</td>\n",
       "      <td>$300,000,000</td>\n",
       "      <td>$678,815,482</td>\n",
       "      <td>$2,048,359,754</td>\n",
       "    </tr>\n",
       "    <tr>\n",
       "      <th>...</th>\n",
       "      <td>...</td>\n",
       "      <td>...</td>\n",
       "      <td>...</td>\n",
       "      <td>...</td>\n",
       "      <td>...</td>\n",
       "    </tr>\n",
       "    <tr>\n",
       "      <th>495</th>\n",
       "      <td>Jul 7, 2004</td>\n",
       "      <td>King Arthur</td>\n",
       "      <td>$90,000,000</td>\n",
       "      <td>$51,877,963</td>\n",
       "      <td>$203,877,963</td>\n",
       "    </tr>\n",
       "    <tr>\n",
       "      <th>496</th>\n",
       "      <td>Apr 25, 1997</td>\n",
       "      <td>Volcano</td>\n",
       "      <td>$90,000,000</td>\n",
       "      <td>$47,546,796</td>\n",
       "      <td>$120,100,000</td>\n",
       "    </tr>\n",
       "    <tr>\n",
       "      <th>497</th>\n",
       "      <td>Mar 26, 1997</td>\n",
       "      <td>The Devil's Own</td>\n",
       "      <td>$90,000,000</td>\n",
       "      <td>$42,885,593</td>\n",
       "      <td>$140,900,000</td>\n",
       "    </tr>\n",
       "    <tr>\n",
       "      <th>498</th>\n",
       "      <td>Jul 19, 2002</td>\n",
       "      <td>K-19: The Widowmaker</td>\n",
       "      <td>$90,000,000</td>\n",
       "      <td>$35,168,966</td>\n",
       "      <td>$65,716,126</td>\n",
       "    </tr>\n",
       "    <tr>\n",
       "      <th>499</th>\n",
       "      <td>Aug 19, 2011</td>\n",
       "      <td>Conan the Barbarian</td>\n",
       "      <td>$90,000,000</td>\n",
       "      <td>$21,295,021</td>\n",
       "      <td>$63,356,133</td>\n",
       "    </tr>\n",
       "  </tbody>\n",
       "</table>\n",
       "<p>500 rows × 5 columns</p>\n",
       "</div>"
      ],
      "text/plain": [
       "      ReleaseDate                                        Movie  \\\n",
       "0    Apr 23, 2019                            Avengers: Endgame   \n",
       "1    May 20, 2011  Pirates of the Caribbean: On Stranger Tides   \n",
       "2    Apr 22, 2015                      Avengers: Age of Ultron   \n",
       "3    Dec 16, 2015         Star Wars Ep. VII: The Force Awakens   \n",
       "4    Apr 25, 2018                       Avengers: Infinity War   \n",
       "..            ...                                          ...   \n",
       "495   Jul 7, 2004                                  King Arthur   \n",
       "496  Apr 25, 1997                                      Volcano   \n",
       "497  Mar 26, 1997                              The Devil's Own   \n",
       "498  Jul 19, 2002                         K-19: The Widowmaker   \n",
       "499  Aug 19, 2011                          Conan the Barbarian   \n",
       "\n",
       "    ProductionBudget DomesticGross  WorldwideGross  \n",
       "0       $400,000,000  $858,373,000  $2,797,800,564  \n",
       "1       $379,000,000  $241,063,875  $1,045,663,875  \n",
       "2       $365,000,000  $459,005,868  $1,403,013,963  \n",
       "3       $306,000,000  $936,662,225  $2,068,223,624  \n",
       "4       $300,000,000  $678,815,482  $2,048,359,754  \n",
       "..               ...           ...             ...  \n",
       "495      $90,000,000   $51,877,963    $203,877,963  \n",
       "496      $90,000,000   $47,546,796    $120,100,000  \n",
       "497      $90,000,000   $42,885,593    $140,900,000  \n",
       "498      $90,000,000   $35,168,966     $65,716,126  \n",
       "499      $90,000,000   $21,295,021     $63,356,133  \n",
       "\n",
       "[500 rows x 5 columns]"
      ]
     },
     "execution_count": 98,
     "metadata": {},
     "output_type": "execute_result"
    }
   ],
   "source": [
    "movies_df"
   ]
  },
  {
   "cell_type": "code",
   "execution_count": null,
   "metadata": {},
   "outputs": [],
   "source": []
  },
  {
   "cell_type": "code",
   "execution_count": null,
   "metadata": {},
   "outputs": [],
   "source": []
  },
  {
   "cell_type": "code",
   "execution_count": null,
   "metadata": {},
   "outputs": [],
   "source": []
  }
 ],
 "metadata": {
  "kernelspec": {
   "display_name": "Python 3",
   "language": "python",
   "name": "python3"
  },
  "language_info": {
   "codemirror_mode": {
    "name": "ipython",
    "version": 3
   },
   "file_extension": ".py",
   "mimetype": "text/x-python",
   "name": "python",
   "nbconvert_exporter": "python",
   "pygments_lexer": "ipython3",
   "version": "3.6.9"
  }
 },
 "nbformat": 4,
 "nbformat_minor": 2
}
